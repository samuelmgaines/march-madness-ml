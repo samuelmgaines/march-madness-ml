{
 "cells": [
  {
   "cell_type": "markdown",
   "metadata": {},
   "source": [
    "# March Madness ML Algorithm"
   ]
  },
  {
   "cell_type": "markdown",
   "metadata": {},
   "source": [
    "## Setup\n",
    "\n",
    "We download libraries and import configurables."
   ]
  },
  {
   "cell_type": "code",
   "execution_count": 1,
   "metadata": {},
   "outputs": [],
   "source": [
    "from bs4 import BeautifulSoup\n",
    "# from dotenv import dotenv_values\n",
    "import logging\n",
    "import pandas as pd\n",
    "import os\n",
    "\n",
    "# config = dotenv_values(\".env\")\n",
    "# logging.getLogger().setLevel(logging.INFO) # toggle logging level"
   ]
  },
  {
   "cell_type": "markdown",
   "metadata": {},
   "source": [
    "## Load Data"
   ]
  },
  {
   "cell_type": "markdown",
   "metadata": {},
   "source": [
    "### March Madness results\n",
    "\n",
    "We import data from every tournament game from 1985 - 2019. This data is stored locally in `data/mm-results.csv`."
   ]
  },
  {
   "cell_type": "code",
   "execution_count": 2,
   "metadata": {},
   "outputs": [],
   "source": [
    "df = pd.read_csv('data/mm-results.csv')"
   ]
  },
  {
   "cell_type": "markdown",
   "metadata": {},
   "source": [
    "### Yearly team stats\n",
    "\n",
    "We import data on team stats for every season (1985 - 2019). This data is scraped from Sports Reference. If data is not already scraped, run `helper/pull-sports-reference.py`."
   ]
  },
  {
   "cell_type": "code",
   "execution_count": 3,
   "metadata": {},
   "outputs": [],
   "source": [
    "# def parse_html_table(table):\n",
    "#     # parse the column headers\n",
    "#     try:\n",
    "#         headers = []\n",
    "#         html_headers = table.find_all('thead')[0].find_all('tr')[0].find_all('th')\n",
    "#         for header in html_headers:\n",
    "#             headers.append(header.get('data-stat'))\n",
    "#     except:\n",
    "#         logging.error(f'No headers found for {year} {team}')\n",
    "#         return None\n",
    "\n",
    "#     # parse the rows\n",
    "#     try:\n",
    "#         games = []\n",
    "#         for row in table.find_all('tbody')[0].find_all('tr'):\n",
    "#             if row.get('class') == ['thead']:\n",
    "#                 continue\n",
    "#             cells = row.find_all('td')\n",
    "#             game = {}\n",
    "#             for i, cell in enumerate(cells):\n",
    "#                 game[headers[i+1]] = cell.get_text()\n",
    "#             games.append(game)\n",
    "#     except:\n",
    "#         logging.error(f'Error parsing rows for {year} {team}')\n",
    "#         return None\n",
    "    \n",
    "#     return games\n",
    "\n",
    "# seasonal_dfs = {}\n",
    "# directory = 'data/yearly'\n",
    "# for filename in os.listdir(directory):\n",
    "#     year = filename.split('-')[0]\n",
    "#     team = filename.split('-')[1].split('.')[0]\n",
    "    \n",
    "#     with open(f'{directory}/{filename}') as f:\n",
    "#         # find table\n",
    "#         soup = BeautifulSoup(f, 'html.parser')\n",
    "#         table = soup.find(id='schedule')\n",
    "#         if table is None:\n",
    "#             logging.error(f'No schedule found for {year} {team}')\n",
    "#             continue\n",
    "        \n",
    "#         # parse table\n",
    "#         games = parse_html_table(table)\n",
    "#         if games is None:\n",
    "#             continue\n",
    "        \n",
    "#         # add games to dataframe\n",
    "#         seasonal_dfs[f'{year}-{team}'] = pd.DataFrame(games)"
   ]
  },
  {
   "cell_type": "markdown",
   "metadata": {},
   "source": [
    "## Data Preparation"
   ]
  },
  {
   "cell_type": "markdown",
   "metadata": {},
   "source": [
    "### Clean up main dataframe\n",
    "\n",
    "We add, remove, and reorder columns in the main dataframe."
   ]
  },
  {
   "cell_type": "code",
   "execution_count": 4,
   "metadata": {},
   "outputs": [],
   "source": [
    "# remove columns that are not needed\n",
    "columns_to_remove = [\n",
    "    'Region Number',\n",
    "    'Region Name',\n",
    "]\n",
    "df.drop(columns_to_remove, axis='columns')\n",
    "\n",
    "# reorder columns\n",
    "df = df[['Year', 'Round', 'Team 1', 'Seed 1', 'Team 2', 'Seed 2', 'Score 1', 'Score 2']]\n",
    "\n",
    "# add column for winner\n",
    "def get_winner(score1, score2):\n",
    "    if score1 > score2:\n",
    "        return 1\n",
    "    elif score1 < score2:\n",
    "        return 2\n",
    "    else:\n",
    "        logging.warning(f\"Score 1: {score1}, Score 2: {score2}, no winner found\")\n",
    "        return 0\n",
    "df.insert(8, 'Winner', df.apply(lambda x: get_winner(x['Score 1'], x['Score 2']), axis=1))\n"
   ]
  }
 ],
 "metadata": {
  "kernelspec": {
   "display_name": "Python 3",
   "language": "python",
   "name": "python3"
  },
  "language_info": {
   "codemirror_mode": {
    "name": "ipython",
    "version": 3
   },
   "file_extension": ".py",
   "mimetype": "text/x-python",
   "name": "python",
   "nbconvert_exporter": "python",
   "pygments_lexer": "ipython3",
   "version": "3.10.6"
  }
 },
 "nbformat": 4,
 "nbformat_minor": 2
}
